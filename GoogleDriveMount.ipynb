{
  "nbformat": 4,
  "nbformat_minor": 0,
  "metadata": {
    "colab": {
      "name": "GoogleDriveMount.ipynb",
      "provenance": [],
      "authorship_tag": "ABX9TyM3TxsFPuIcC+KyuDuRivy+",
      "include_colab_link": true
    },
    "kernelspec": {
      "name": "python3",
      "display_name": "Python 3"
    }
  },
  "cells": [
    {
      "cell_type": "markdown",
      "metadata": {
        "id": "view-in-github",
        "colab_type": "text"
      },
      "source": [
        "<a href=\"https://colab.research.google.com/github/tokioto/tokioto01/blob/master/GoogleDriveMount.ipynb\" target=\"_parent\"><img src=\"https://colab.research.google.com/assets/colab-badge.svg\" alt=\"Open In Colab\"/></a>"
      ]
    },
    {
      "cell_type": "code",
      "metadata": {
        "id": "RAKKzcjcSR2A",
        "colab_type": "code",
        "outputId": "1c3c8c0c-9149-47fb-bfb2-9b36b43be10d",
        "colab": {
          "base_uri": "https://localhost:8080/",
          "height": 34
        }
      },
      "source": [
        "from google.colab import drive\n",
        "drive.mount('/content_gdrive')"
      ],
      "execution_count": 0,
      "outputs": [
        {
          "output_type": "stream",
          "text": [
            "Drive already mounted at /content_gdrive; to attempt to forcibly remount, call drive.mount(\"/content_gdrive\", force_remount=True).\n"
          ],
          "name": "stdout"
        }
      ]
    },
    {
      "cell_type": "code",
      "metadata": {
        "id": "cy7BbywNW2aI",
        "colab_type": "code",
        "outputId": "8e2c1a98-987c-44e7-dc6e-097333423bd8",
        "colab": {
          "base_uri": "https://localhost:8080/",
          "height": 51
        }
      },
      "source": [
        "!git clone https://github.com/tokioto:yamaonna22-GTH@github.com/tokioto/tokioto01.git “drive/MyDrive/Colab Notebooks/git\""
      ],
      "execution_count": 0,
      "outputs": [
        {
          "output_type": "stream",
          "text": [
            "/bin/bash: -c: line 0: unexpected EOF while looking for matching `\"'\n",
            "/bin/bash: -c: line 1: syntax error: unexpected end of file\n"
          ],
          "name": "stdout"
        }
      ]
    },
    {
      "cell_type": "code",
      "metadata": {
        "id": "yULDKmtiW6SM",
        "colab_type": "code",
        "outputId": "2d20726e-7286-448e-d0ba-d252a62df06a",
        "colab": {
          "base_uri": "https://localhost:8080/",
          "height": 68
        }
      },
      "source": [
        "!git clone https://github.com/tokioto:yamaonna22-GTH@github.com/tokioto/tokioto01.git \"drive/MyDrive/Colab Notebooks/git\""
      ],
      "execution_count": 0,
      "outputs": [
        {
          "output_type": "stream",
          "text": [
            "Cloning into 'drive/MyDrive/Colab Notebooks/git'...\n",
            "remote: Not Found\n",
            "fatal: repository 'https://github.com/tokioto:yamaonna22-GTH@github.com/tokioto/tokioto01.git/' not found\n"
          ],
          "name": "stdout"
        }
      ]
    },
    {
      "cell_type": "code",
      "metadata": {
        "id": "N_HZlf6wbXcn",
        "colab_type": "code",
        "outputId": "93d55c1b-d722-44f4-9dbc-85dbc075932e",
        "colab": {
          "base_uri": "https://localhost:8080/",
          "height": 34
        }
      },
      "source": [
        "!git clone https://github.com/tokioto/tokioto01.git \"drive/MyDrive/Colab Notebooks/git\""
      ],
      "execution_count": 0,
      "outputs": [
        {
          "output_type": "stream",
          "text": [
            "fatal: destination path 'drive/MyDrive/Colab Notebooks/git' already exists and is not an empty directory.\n"
          ],
          "name": "stdout"
        }
      ]
    }
  ]
}